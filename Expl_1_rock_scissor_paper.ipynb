{
 "cells": [
  {
   "cell_type": "code",
   "execution_count": 1,
   "id": "preliminary-rally",
   "metadata": {},
   "outputs": [],
   "source": [
    "from PIL import Image\n",
    "import os, glob"
   ]
  },
  {
   "cell_type": "code",
   "execution_count": 2,
   "id": "italian-stations",
   "metadata": {},
   "outputs": [
    {
     "name": "stdout",
     "output_type": "stream",
     "text": [
      "100 images to be resized.\n",
      "100 images resized.\n",
      "scissors resize completed!\n"
     ]
    }
   ],
   "source": [
    "def resize_images(img_path):\n",
    "    images = glob.glob(img_path + \"/*.jpg\")\n",
    "    \n",
    "    print(len(images), \"images to be resized.\")\n",
    "    \n",
    "    target_size = (28,28)\n",
    "    for img in images:\n",
    "        old_img = Image.open(img)\n",
    "        new_img = old_img.resize(target_size,Image.ANTIALIAS)\n",
    "        new_img.save(img,\"JPEG\")\n",
    "        \n",
    "    print(len(images), \"images resized.\")\n",
    "    \n",
    "image_dir_path = os.getenv(\"HOME\") + \"/aiffel/lms/data/rock_scissor_paper/scissor\"\n",
    "resize_images(image_dir_path)\n",
    "\n",
    "print(\"scissors resize completed!\")"
   ]
  },
  {
   "cell_type": "code",
   "execution_count": 3,
   "id": "adolescent-welcome",
   "metadata": {},
   "outputs": [
    {
     "name": "stdout",
     "output_type": "stream",
     "text": [
      "100 images to be resized.\n",
      "100 images resized.\n",
      "rock resize completed!\n"
     ]
    }
   ],
   "source": [
    "def resize_images_rock(img_path):\n",
    "    images = glob.glob(img_path + \"/*.jpg\")\n",
    "    \n",
    "    print(len(images), \"images to be resized.\")\n",
    "    \n",
    "    target_size = (28,28)\n",
    "    for img in images:\n",
    "        old_img = Image.open(img)\n",
    "        new_img = old_img.resize(target_size,Image.ANTIALIAS)\n",
    "        new_img.save(img,\"JPEG\")\n",
    "        \n",
    "    print(len(images), \"images resized.\")\n",
    "    \n",
    "image_dir_path = os.getenv(\"HOME\") + \"/aiffel/lms/data/rock_scissor_paper/rock\"\n",
    "resize_images_rock(image_dir_path)\n",
    "\n",
    "print(\"rock resize completed!\")"
   ]
  },
  {
   "cell_type": "code",
   "execution_count": 4,
   "id": "scheduled-kidney",
   "metadata": {},
   "outputs": [
    {
     "name": "stdout",
     "output_type": "stream",
     "text": [
      "100 images to be resized.\n",
      "100 images resized.\n",
      "paper resize completed!\n"
     ]
    }
   ],
   "source": [
    "def resize_images_paper(img_path):\n",
    "    images = glob.glob(img_path + \"/*.jpg\")\n",
    "    \n",
    "    print(len(images), \"images to be resized.\")\n",
    "    \n",
    "    target_size = (28,28)\n",
    "    for img in images:\n",
    "        old_img = Image.open(img)\n",
    "        new_img = old_img.resize(target_size,Image.ANTIALIAS)\n",
    "        new_img.save(img,\"JPEG\")\n",
    "        \n",
    "    print(len(images), \"images resized.\")\n",
    "    \n",
    "image_dir_path = os.getenv(\"HOME\") + \"/aiffel/lms/data/rock_scissor_paper/paper\"\n",
    "resize_images_paper(image_dir_path)\n",
    "\n",
    "print(\"paper resize completed!\")"
   ]
  },
  {
   "cell_type": "code",
   "execution_count": 5,
   "id": "detected-overall",
   "metadata": {},
   "outputs": [
    {
     "name": "stdout",
     "output_type": "stream",
     "text": [
      "학습데이터(x_train)의 이미지 개수는 300 입니다.\n",
      "x_train shape: (300, 28, 28, 3)\n",
      "y_train shape: (300,)\n",
      "_x_train shape: (210, 28, 28, 3)\n",
      "_y_train shape: (210,)\n",
      "_x_test shape: (90, 28, 28, 3)\n",
      "_y_test shape: (90,)\n"
     ]
    }
   ],
   "source": [
    "import numpy as np\n",
    "\n",
    "def load_data(img_path, number_of_data=300):  # 가위바위보 이미지 개수 총합에 주의하세요.\n",
    "    # 가위 : 0, 바위 : 1, 보 : 2\n",
    "    img_size=28\n",
    "    color=3\n",
    "    #이미지 데이터와 라벨(가위 : 0, 바위 : 1, 보 : 2) 데이터를 담을 행렬(matrix) 영역을 생성합니다.\n",
    "    imgs=np.zeros(number_of_data*img_size*img_size*color,dtype=np.int32).reshape(number_of_data,img_size,img_size,color)\n",
    "    labels=np.zeros(number_of_data,dtype=np.int32)\n",
    "\n",
    "    idx=0\n",
    "    for file in glob.iglob(img_path+'/scissor/*.jpg'):\n",
    "        img = np.array(Image.open(file),dtype=np.int32)\n",
    "        imgs[idx,:,:,:]=img    # 데이터 영역에 이미지 행렬을 복사\n",
    "        labels[idx]=0   # 가위 : 0\n",
    "        idx=idx+1\n",
    "        \n",
    "    for file in glob.iglob(img_path+'/rock/*.jpg'):\n",
    "        img = np.array(Image.open(file),dtype=np.int32)\n",
    "        imgs[idx,:,:,:]=img    # 데이터 영역에 이미지 행렬을 복사\n",
    "        labels[idx]=1   # 바위 : 1\n",
    "        idx=idx+1  \n",
    "    \n",
    "    for file in glob.iglob(img_path+'/paper/*.jpg'):\n",
    "        img = np.array(Image.open(file),dtype=np.int32)\n",
    "        imgs[idx,:,:,:]=img    # 데이터 영역에 이미지 행렬을 복사\n",
    "        labels[idx]=2   # 보 : 2\n",
    "        idx=idx+1\n",
    "        \n",
    "    print(\"학습데이터(x_train)의 이미지 개수는\", idx,\"입니다.\")\n",
    "    return imgs, labels\n",
    "\n",
    "image_dir_path = os.getenv(\"HOME\") + \"/aiffel/lms/data/rock_scissor_paper\"\n",
    "(x_train, y_train)=load_data(image_dir_path)\n",
    "x_train_norm = x_train/255.0   # 입력은 0~1 사이의 값으로 정규화\n",
    "\n",
    "print(\"x_train shape: {}\".format(x_train_norm.shape))\n",
    "print(\"y_train shape: {}\".format(y_train.shape))\n",
    "\n",
    "_x_test = x_train_norm[int(len(x_train)*0.7):]\n",
    "_y_test = y_train[int(len(x_train)*0.7):]\n",
    "_x_train = x_train_norm[:int(len(x_train)*0.7)]\n",
    "_y_train = y_train[:int(len(x_train)*0.7)]\n",
    "\n",
    "print(\"_x_train shape: {}\".format(_x_train.shape))\n",
    "print(\"_y_train shape: {}\".format(_y_train.shape))\n",
    "print(\"_x_test shape: {}\".format(_x_test.shape))\n",
    "print(\"_y_test shape: {}\".format(_y_test.shape))"
   ]
  },
  {
   "cell_type": "code",
   "execution_count": 6,
   "id": "focal-arena",
   "metadata": {},
   "outputs": [
    {
     "name": "stdout",
     "output_type": "stream",
     "text": [
      "label: 0\n"
     ]
    },
    {
     "data": {
      "image/png": "[encoded data removed]",
      "text/plain": [
       "<Figure size 432x288 with 1 Axes>"
      ]
     },
     "metadata": {
      "needs_background": "light"
     },
     "output_type": "display_data"
    }
   ],
   "source": [
    "import matplotlib.pyplot as plt\n",
    "plt.imshow(x_train[150])\n",
    "print(\"label:\", y_train[0])"
   ]
  },
  {
   "cell_type": "code",
   "execution_count": 7,
   "id": "marked-failing",
   "metadata": {},
   "outputs": [
    {
     "name": "stdout",
     "output_type": "stream",
     "text": [
      "x_train_reshaped shape:  (210, 28, 28, 3)\n",
      "x_test_reshaped shape:  (90, 28, 28, 3)\n"
     ]
    }
   ],
   "source": [
    "x_train_reshaped = _x_train.reshape(-1,28,28,3)\n",
    "x_test_reshaped = _x_test.reshape(-1,28,28,3)\n",
    "\n",
    "print(\"x_train_reshaped shape: \", np.shape(x_train_reshaped))\n",
    "print(\"x_test_reshaped shape: \", np.shape(x_test_reshaped))"
   ]
  },
  {
   "cell_type": "code",
   "execution_count": 8,
   "id": "extra-significance",
   "metadata": {},
   "outputs": [
    {
     "name": "stdout",
     "output_type": "stream",
     "text": [
      "label: 2\n"
     ]
    },
    {
     "data": {
      "image/png": "[encoded data removed]",
      "text/plain": [
       "<Figure size 432x288 with 1 Axes>"
      ]
     },
     "metadata": {
      "needs_background": "light"
     },
     "output_type": "display_data"
    }
   ],
   "source": [
    "plt.imshow(_x_test[0])\n",
    "print(\"label:\", _y_test[0])"
   ]
  },
  {
   "cell_type": "markdown",
   "id": "sapphire-independence",
   "metadata": {},
   "source": [
    "## Model "
   ]
  },
  {
   "cell_type": "code",
   "execution_count": 9,
   "id": "computational-differential",
   "metadata": {},
   "outputs": [],
   "source": [
    "import tensorflow as tf\n",
    "from tensorflow import keras\n",
    "import numpy as np"
   ]
  },
  {
   "cell_type": "code",
   "execution_count": 10,
   "id": "adjacent-cutting",
   "metadata": {
    "scrolled": true
   },
   "outputs": [
    {
     "name": "stdout",
     "output_type": "stream",
     "text": [
      "Model: \"sequential\"\n",
      "_________________________________________________________________\n",
      "Layer (type)                 Output Shape              Param #   \n",
      "=================================================================\n",
      "conv2d (Conv2D)              (None, 26, 26, 16)        448       \n",
      "_________________________________________________________________\n",
      "max_pooling2d (MaxPooling2D) (None, 13, 13, 16)        0         \n",
      "_________________________________________________________________\n",
      "conv2d_1 (Conv2D)            (None, 11, 11, 32)        4640      \n",
      "_________________________________________________________________\n",
      "max_pooling2d_1 (MaxPooling2 (None, 5, 5, 32)          0         \n",
      "_________________________________________________________________\n",
      "flatten (Flatten)            (None, 800)               0         \n",
      "_________________________________________________________________\n",
      "dense (Dense)                (None, 32)                25632     \n",
      "_________________________________________________________________\n",
      "dense_1 (Dense)              (None, 3)                 99        \n",
      "=================================================================\n",
      "Total params: 30,819\n",
      "Trainable params: 30,819\n",
      "Non-trainable params: 0\n",
      "_________________________________________________________________\n"
     ]
    }
   ],
   "source": [
    "n_channel_1 = 16\n",
    "n_channel_2 = 32\n",
    "n_dense = 32\n",
    "n_train_epoch = 50\n",
    "\n",
    "model = keras.models.Sequential()\n",
    "model.add(keras.layers.Conv2D(n_channel_1, (3,3), activation='relu', input_shape=(28,28,3)))\n",
    "model.add(keras.layers.MaxPool2D(2,2))\n",
    "model.add(keras.layers.Conv2D(n_channel_2, (3,3), activation='relu'))\n",
    "model.add(keras.layers.MaxPool2D(2,2))\n",
    "model.add(keras.layers.Flatten())\n",
    "model.add(keras.layers.Dense(n_dense, activation='relu'))\n",
    "model.add(keras.layers.Dense(3, activation='softmax'))\n",
    "\n",
    "model.summary()"
   ]
  },
  {
   "cell_type": "code",
   "execution_count": 11,
   "id": "awful-ecology",
   "metadata": {
    "scrolled": true
   },
   "outputs": [
    {
     "name": "stdout",
     "output_type": "stream",
     "text": [
      "Epoch 1/50\n",
      "7/7 [==============================] - 5s 283ms/step - loss: 1.0306 - accuracy: 0.3341\n",
      "Epoch 2/50\n",
      "7/7 [==============================] - 0s 3ms/step - loss: 0.8614 - accuracy: 0.4292\n",
      "Epoch 3/50\n",
      "7/7 [==============================] - 0s 3ms/step - loss: 0.8267 - accuracy: 0.5465\n",
      "Epoch 4/50\n",
      "7/7 [==============================] - 0s 3ms/step - loss: 0.7838 - accuracy: 0.6756\n",
      "Epoch 5/50\n",
      "7/7 [==============================] - 0s 3ms/step - loss: 0.7652 - accuracy: 0.6775\n",
      "Epoch 6/50\n",
      "7/7 [==============================] - 0s 3ms/step - loss: 0.7494 - accuracy: 0.7022\n",
      "Epoch 7/50\n",
      "7/7 [==============================] - 0s 3ms/step - loss: 0.7040 - accuracy: 0.7319\n",
      "Epoch 8/50\n",
      "7/7 [==============================] - 0s 3ms/step - loss: 0.6433 - accuracy: 0.7917\n",
      "Epoch 9/50\n",
      "7/7 [==============================] - 0s 3ms/step - loss: 0.5126 - accuracy: 0.8669\n",
      "Epoch 10/50\n",
      "7/7 [==============================] - 0s 3ms/step - loss: 0.4612 - accuracy: 0.8771\n",
      "Epoch 11/50\n",
      "7/7 [==============================] - 0s 3ms/step - loss: 0.4047 - accuracy: 0.8949\n",
      "Epoch 12/50\n",
      "7/7 [==============================] - 0s 4ms/step - loss: 0.4118 - accuracy: 0.8335\n",
      "Epoch 13/50\n",
      "7/7 [==============================] - 0s 3ms/step - loss: 0.3321 - accuracy: 0.8794\n",
      "Epoch 14/50\n",
      "7/7 [==============================] - 0s 4ms/step - loss: 0.2862 - accuracy: 0.9083\n",
      "Epoch 15/50\n",
      "7/7 [==============================] - 0s 3ms/step - loss: 0.2536 - accuracy: 0.9044\n",
      "Epoch 16/50\n",
      "7/7 [==============================] - 0s 3ms/step - loss: 0.2095 - accuracy: 0.9650\n",
      "Epoch 17/50\n",
      "7/7 [==============================] - 0s 3ms/step - loss: 0.1689 - accuracy: 0.9612\n",
      "Epoch 18/50\n",
      "7/7 [==============================] - 0s 3ms/step - loss: 0.1469 - accuracy: 0.9713\n",
      "Epoch 19/50\n",
      "7/7 [==============================] - 0s 3ms/step - loss: 0.1104 - accuracy: 0.9812\n",
      "Epoch 20/50\n",
      "7/7 [==============================] - 0s 3ms/step - loss: 0.1249 - accuracy: 0.9677\n",
      "Epoch 21/50\n",
      "7/7 [==============================] - 0s 3ms/step - loss: 0.0992 - accuracy: 0.9920\n",
      "Epoch 22/50\n",
      "7/7 [==============================] - 0s 3ms/step - loss: 0.0982 - accuracy: 0.9755\n",
      "Epoch 23/50\n",
      "7/7 [==============================] - 0s 3ms/step - loss: 0.0653 - accuracy: 0.9951\n",
      "Epoch 24/50\n",
      "7/7 [==============================] - 0s 3ms/step - loss: 0.0552 - accuracy: 0.9919\n",
      "Epoch 25/50\n",
      "7/7 [==============================] - 0s 3ms/step - loss: 0.0794 - accuracy: 0.9882\n",
      "Epoch 26/50\n",
      "7/7 [==============================] - 0s 3ms/step - loss: 0.0579 - accuracy: 0.9913\n",
      "Epoch 27/50\n",
      "7/7 [==============================] - 0s 3ms/step - loss: 0.0528 - accuracy: 1.0000\n",
      "Epoch 28/50\n",
      "7/7 [==============================] - 0s 3ms/step - loss: 0.0349 - accuracy: 0.9921\n",
      "Epoch 29/50\n",
      "7/7 [==============================] - 0s 3ms/step - loss: 0.0458 - accuracy: 0.9964\n",
      "Epoch 30/50\n",
      "7/7 [==============================] - 0s 3ms/step - loss: 0.0362 - accuracy: 0.9906\n",
      "Epoch 31/50\n",
      "7/7 [==============================] - 0s 3ms/step - loss: 0.0239 - accuracy: 1.0000\n",
      "Epoch 32/50\n",
      "7/7 [==============================] - 0s 3ms/step - loss: 0.0202 - accuracy: 0.9988\n",
      "Epoch 33/50\n",
      "7/7 [==============================] - 0s 3ms/step - loss: 0.0336 - accuracy: 1.0000\n",
      "Epoch 34/50\n",
      "7/7 [==============================] - 0s 3ms/step - loss: 0.0240 - accuracy: 1.0000\n",
      "Epoch 35/50\n",
      "7/7 [==============================] - 0s 3ms/step - loss: 0.0222 - accuracy: 1.0000\n",
      "Epoch 36/50\n",
      "7/7 [==============================] - 0s 3ms/step - loss: 0.0134 - accuracy: 1.0000\n",
      "Epoch 37/50\n",
      "7/7 [==============================] - 0s 3ms/step - loss: 0.0141 - accuracy: 1.0000\n",
      "Epoch 38/50\n",
      "7/7 [==============================] - 0s 3ms/step - loss: 0.0141 - accuracy: 1.0000\n",
      "Epoch 39/50\n",
      "7/7 [==============================] - 0s 3ms/step - loss: 0.0116 - accuracy: 1.0000\n",
      "Epoch 40/50\n",
      "7/7 [==============================] - 0s 3ms/step - loss: 0.0104 - accuracy: 1.0000\n",
      "Epoch 41/50\n",
      "7/7 [==============================] - 0s 3ms/step - loss: 0.0102 - accuracy: 1.0000\n",
      "Epoch 42/50\n",
      "7/7 [==============================] - 0s 3ms/step - loss: 0.0078 - accuracy: 1.0000\n",
      "Epoch 43/50\n",
      "7/7 [==============================] - 0s 3ms/step - loss: 0.0086 - accuracy: 1.0000\n",
      "Epoch 44/50\n",
      "7/7 [==============================] - 0s 3ms/step - loss: 0.0064 - accuracy: 1.0000\n",
      "Epoch 45/50\n",
      "7/7 [==============================] - 0s 3ms/step - loss: 0.0072 - accuracy: 1.0000\n",
      "Epoch 46/50\n",
      "7/7 [==============================] - 0s 3ms/step - loss: 0.0059 - accuracy: 1.0000\n",
      "Epoch 47/50\n",
      "7/7 [==============================] - 0s 3ms/step - loss: 0.0060 - accuracy: 1.0000\n",
      "Epoch 48/50\n",
      "7/7 [==============================] - 0s 3ms/step - loss: 0.0047 - accuracy: 1.0000\n",
      "Epoch 49/50\n",
      "7/7 [==============================] - 0s 3ms/step - loss: 0.0062 - accuracy: 1.0000\n",
      "Epoch 50/50\n",
      "7/7 [==============================] - 0s 3ms/step - loss: 0.0046 - accuracy: 1.0000\n"
     ]
    },
    {
     "data": {
      "text/plain": [
       "<tensorflow.python.keras.callbacks.History at 0x7f5c3bd79ed0>"
      ]
     },
     "execution_count": 11,
     "metadata": {},
     "output_type": "execute_result"
    }
   ],
   "source": [
    "model.compile(optimizer='adam',\n",
    "             loss='sparse_categorical_crossentropy',\n",
    "             metrics=['accuracy'])\n",
    "\n",
    "model.fit(x_train_reshaped, _y_train, epochs=n_train_epoch)"
   ]
  },
  {
   "cell_type": "code",
   "execution_count": null,
   "id": "distinct-clerk",
   "metadata": {},
   "outputs": [],
   "source": [
    "np.shape(x_train_reshaped)\n",
    "#np.shape(_y_train)\n",
    "#print(np.min(_x_train))\n",
    "#print(np.max(_x_train))"
   ]
  },
  {
   "cell_type": "markdown",
   "id": "modular-solid",
   "metadata": {},
   "source": [
    "## Evaluation & Prediction"
   ]
  },
  {
   "cell_type": "code",
   "execution_count": 12,
   "id": "latter-china",
   "metadata": {},
   "outputs": [
    {
     "name": "stdout",
     "output_type": "stream",
     "text": [
      "3/3 - 1s - loss: 0.8753 - accuracy: 0.7778\n",
      "test_loss: 0.8753207921981812 \n",
      "test_accuracy: 0.7777777910232544\n"
     ]
    }
   ],
   "source": [
    "test_loss, test_accuracy = model.evaluate(x_test_reshaped, _y_test, verbose=2)\n",
    "print(\"test_loss: {} \".format(test_loss))\n",
    "print(\"test_accuracy: {}\".format(test_accuracy))"
   ]
  },
  {
   "cell_type": "code",
   "execution_count": 13,
   "id": "received-livestock",
   "metadata": {},
   "outputs": [
    {
     "data": {
      "text/plain": [
       "(90, 28, 28, 3)"
      ]
     },
     "execution_count": 13,
     "metadata": {},
     "output_type": "execute_result"
    }
   ],
   "source": [
    "np.shape(x_test_reshaped)"
   ]
  },
  {
   "cell_type": "code",
   "execution_count": 14,
   "id": "stopped-cause",
   "metadata": {},
   "outputs": [
    {
     "name": "stdout",
     "output_type": "stream",
     "text": [
      "model.predict() 결과 :  [1.5851196e-04 7.7744000e-02 9.2209750e-01]\n",
      "model이 추론한 가장 가능성이 높은 결과 :  2\n",
      "실제 데이터의 라벨 :  2\n"
     ]
    }
   ],
   "source": [
    "predicted_result = model.predict(x_test_reshaped)  # model이 추론한 확률값. \n",
    "predicted_labels = np.argmax(predicted_result, axis=1)\n",
    "\n",
    "idx=0  #1번째 x_test를 살펴보자. \n",
    "print('model.predict() 결과 : ', predicted_result[idx])\n",
    "print('model이 추론한 가장 가능성이 높은 결과 : ', predicted_labels[idx])\n",
    "print('실제 데이터의 라벨 : ', _y_test[idx])"
   ]
  },
  {
   "cell_type": "code",
   "execution_count": 16,
   "id": "designing-deviation",
   "metadata": {},
   "outputs": [
    {
     "data": {
      "image/png": "[encoded data removed]",
      "text/plain": [
       "<Figure size 432x288 with 1 Axes>"
      ]
     },
     "metadata": {
      "needs_background": "light"
     },
     "output_type": "display_data"
    }
   ],
   "source": [
    "plt.imshow(_x_test[idx],cmap=plt.cm.binary)\n",
    "plt.show()"
   ]
  },
  {
   "cell_type": "code",
   "execution_count": 20,
   "id": "informed-truck",
   "metadata": {},
   "outputs": [
    {
     "name": "stdout",
     "output_type": "stream",
     "text": [
      "예측확률분포: [0.00659472 0.77671915 0.21668613]\n",
      "라벨: 2, 예측결과: 1\n"
     ]
    },
    {
     "data": {
      "image/png": "[encoded data removed]",
      "text/plain": [
       "<Figure size 432x288 with 1 Axes>"
      ]
     },
     "metadata": {
      "needs_background": "light"
     },
     "output_type": "display_data"
    },
    {
     "name": "stdout",
     "output_type": "stream",
     "text": [
      "예측확률분포: [1.9103342e-04 8.2374376e-01 1.7606519e-01]\n",
      "라벨: 2, 예측결과: 1\n"
     ]
    },
    {
     "data": {
      "image/png": "[encoded data removed]",
      "text/plain": [
       "<Figure size 432x288 with 1 Axes>"
      ]
     },
     "metadata": {
      "needs_background": "light"
     },
     "output_type": "display_data"
    },
    {
     "name": "stdout",
     "output_type": "stream",
     "text": [
      "예측확률분포: [6.8894500e-04 9.6142071e-01 3.7890423e-02]\n",
      "라벨: 2, 예측결과: 1\n"
     ]
    },
    {
     "data": {
      "image/png": "[encoded data removed]",
      "text/plain": [
       "<Figure size 432x288 with 1 Axes>"
      ]
     },
     "metadata": {
      "needs_background": "light"
     },
     "output_type": "display_data"
    },
    {
     "name": "stdout",
     "output_type": "stream",
     "text": [
      "예측확률분포: [0.00352764 0.66573846 0.3307339 ]\n",
      "라벨: 2, 예측결과: 1\n"
     ]
    },
    {
     "data": {
      "image/png": "[encoded data removed]",
      "text/plain": [
       "<Figure size 432x288 with 1 Axes>"
      ]
     },
     "metadata": {
      "needs_background": "light"
     },
     "output_type": "display_data"
    },
    {
     "name": "stdout",
     "output_type": "stream",
     "text": [
      "예측확률분포: [9.5812855e-03 9.8946536e-01 9.5338025e-04]\n",
      "라벨: 2, 예측결과: 1\n"
     ]
    },
    {
     "data": {
      "image/png": "[encoded data removed]",
      "text/plain": [
       "<Figure size 432x288 with 1 Axes>"
      ]
     },
     "metadata": {
      "needs_background": "light"
     },
     "output_type": "display_data"
    }
   ],
   "source": [
    "import random\n",
    "wrong_predict_list=[]\n",
    "for i, _ in enumerate(predicted_labels):\n",
    "    # i번째 test_labels과 y_test이 다른 경우만 모아 봅시다. \n",
    "    if predicted_labels[i] != _y_test[i]:\n",
    "        wrong_predict_list.append(i)\n",
    "\n",
    "# wrong_predict_list 에서 랜덤하게 5개만 뽑아봅시다.\n",
    "samples = random.choices(population=wrong_predict_list, k=5)\n",
    "\n",
    "for n in samples:\n",
    "    print(\"예측확률분포: \" + str(predicted_result[n]))\n",
    "    print(\"라벨: \" + str(_y_test[n]) + \", 예측결과: \" + str(predicted_labels[n]))\n",
    "    plt.imshow(_x_test[n], cmap=plt.cm.binary)\n",
    "    plt.show()"
   ]
  },
  {
   "cell_type": "code",
   "execution_count": null,
   "id": "handed-veteran",
   "metadata": {},
   "outputs": [],
   "source": []
  }
 ],
 "metadata": {
  "kernelspec": {
   "display_name": "Python 3",
   "language": "python",
   "name": "python3"
  },
  "language_info": {
   "codemirror_mode": {
    "name": "ipython",
    "version": 3
   },
   "file_extension": ".py",
   "mimetype": "text/x-python",
   "name": "python",
   "nbconvert_exporter": "python",
   "pygments_lexer": "ipython3",
   "version": "3.7.9"
  }
 },
 "nbformat": 4,
 "nbformat_minor": 5
}
