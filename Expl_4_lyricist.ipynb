{
 "cells": [
  {
   "cell_type": "code",
   "execution_count": 1,
   "id": "moderate-catalog",
   "metadata": {},
   "outputs": [
    {
     "name": "stdout",
     "output_type": "stream",
     "text": [
      "['First Citizen:', 'Before we proceed any further, hear me speak.', '', 'All:', 'Speak, speak.', '', 'First Citizen:', 'You are all resolved rather to die than to famish?', '']\n"
     ]
    }
   ],
   "source": [
    "import os, re\n",
    "import numpy as np\n",
    "import tensorflow as tf\n",
    "\n",
    "file_path = os.getenv(\"HOME\") + \"/aiffel/lyricist/data/shakespeare.txt\"\n",
    "with open(file_path, 'r') as f:\n",
    "    raw_corpus = f.read().splitlines()\n",
    "    \n",
    "print(raw_corpus[:9])"
   ]
  },
  {
   "cell_type": "code",
   "execution_count": 3,
   "id": "guided-beginning",
   "metadata": {},
   "outputs": [
    {
     "name": "stdout",
     "output_type": "stream",
     "text": [
      "Before we proceed any further, hear me speak.\n",
      "Speak, speak.\n",
      "You are all resolved rather to die than to famish?\n"
     ]
    }
   ],
   "source": [
    "for idx, sentence in enumerate(raw_corpus):\n",
    "    if len(sentence) == 0: continue\n",
    "    if sentence[-1] == ':': continue\n",
    "        \n",
    "    if idx > 9: break\n",
    "        \n",
    "    print(sentence)"
   ]
  },
  {
   "cell_type": "markdown",
   "id": "abandoned-mechanism",
   "metadata": {},
   "source": [
    "## 1. 문장부호\n",
    "## 2. 대소문자 구별\n",
    "## 3. 특수문자"
   ]
  },
  {
   "cell_type": "code",
   "execution_count": 9,
   "id": "organic-cylinder",
   "metadata": {},
   "outputs": [
    {
     "name": "stdout",
     "output_type": "stream",
     "text": [
      "<start> this is sample sentence. <end>\n"
     ]
    }
   ],
   "source": [
    "def preprocess_sentence(sentence):\n",
    "    sentence = sentence.lower().strip()\n",
    "    sentence = re.sub(r\"([?.!,¿])\", r\"\\1\", sentence)\n",
    "    sentence = re.sub(r'[\"\"]+', \"\", sentence)\n",
    "    sentence = re.sub(r\"[^a-zA-Z?.!,¿]+\",\" \",sentence)\n",
    "    sentence = sentence.strip()\n",
    "    sentence = '<start> ' + sentence + ' <end>'\n",
    "    return sentence\n",
    "\n",
    "print(preprocess_sentence('This @_is ;;; sample   sentence.'))"
   ]
  },
  {
   "cell_type": "code",
   "execution_count": 10,
   "id": "cutting-feeding",
   "metadata": {},
   "outputs": [
    {
     "data": {
      "text/plain": [
       "['<start> before we proceed any further, hear me speak. <end>',\n",
       " '<start> speak, speak. <end>',\n",
       " '<start> you are all resolved rather to die than to famish? <end>',\n",
       " '<start> resolved. resolved. <end>',\n",
       " '<start> first, you know caius marcius is chief enemy to the people. <end>',\n",
       " '<start> we know t, we know t. <end>',\n",
       " '<start> let us kill him, and we ll have corn at our own price. <end>',\n",
       " '<start> is t a verdict? <end>',\n",
       " '<start> no more talking on t let it be done away, away! <end>',\n",
       " '<start> one word, good citizens. <end>']"
      ]
     },
     "execution_count": 10,
     "metadata": {},
     "output_type": "execute_result"
    }
   ],
   "source": [
    "corpus = []\n",
    "\n",
    "for sentence in raw_corpus:\n",
    "    if len(sentence) == 0: continue\n",
    "    if sentence[-1] == \":\": continue\n",
    "    \n",
    "    preprocessed_sentence = preprocess_sentence(sentence)\n",
    "    corpus.append(preprocessed_sentence)\n",
    "    \n",
    "corpus[:10]"
   ]
  },
  {
   "cell_type": "code",
   "execution_count": 12,
   "id": "novel-identifier",
   "metadata": {},
   "outputs": [
    {
     "name": "stdout",
     "output_type": "stream",
     "text": [
      "[[   2  144   35 ...    0    0    0]\n",
      " [   2  521  492 ...    0    0    0]\n",
      " [   2   11   42 ...    0    0    0]\n",
      " ...\n",
      " [   2  137    1 ...    0    0    0]\n",
      " [   2   28   55 ...    0    0    0]\n",
      " [   2 1005   28 ...    0    0    0]] <keras_preprocessing.text.Tokenizer object at 0x7f5d8bafda90>\n"
     ]
    }
   ],
   "source": [
    "def tokenize(corpus):\n",
    "    tokenizer = tf.keras.preprocessing.text.Tokenizer(\n",
    "    num_words=7000,\n",
    "    filters='',\n",
    "    oov_token='<unk>'\n",
    "    )\n",
    "    \n",
    "    tokenizer.fit_on_texts(corpus)\n",
    "    tensor = tokenizer.texts_to_sequences(corpus)\n",
    "    \n",
    "    tensor = tf.keras.preprocessing.sequence.pad_sequences(tensor, padding='post')\n",
    "    \n",
    "    print(tensor,tokenizer)\n",
    "    return tensor, tokenizer\n",
    "\n",
    "tensor, tokenizer = tokenize(corpus)"
   ]
  },
  {
   "cell_type": "code",
   "execution_count": 15,
   "id": "limited-quantum",
   "metadata": {},
   "outputs": [
    {
     "name": "stdout",
     "output_type": "stream",
     "text": [
      "1 : <unk>\n",
      "2 : <start>\n",
      "3 : <end>\n",
      "4 : the\n",
      "5 : and\n",
      "6 : i\n",
      "7 : to\n",
      "8 : of\n",
      "9 : my\n",
      "10 : a\n"
     ]
    }
   ],
   "source": [
    "for idx in tokenizer.index_word:\n",
    "    print(idx, \":\", tokenizer.index_word[idx])\n",
    "    \n",
    "    if idx >= 10: break"
   ]
  },
  {
   "cell_type": "code",
   "execution_count": 17,
   "id": "mexican-partition",
   "metadata": {},
   "outputs": [
    {
     "name": "stdout",
     "output_type": "stream",
     "text": [
      "[   2  144   35 1332  129 3602  124   29  492    3    0    0    0    0\n",
      "    0    0    0]\n",
      "[ 144   35 1332  129 3602  124   29  492    3    0    0    0    0    0\n",
      "    0    0    0]\n"
     ]
    }
   ],
   "source": [
    "src_input = tensor[:, :-1]\n",
    "\n",
    "tgt_input = tensor[:, 1:]\n",
    "\n",
    "print(src_input[0])\n",
    "print(tgt_input[0])"
   ]
  },
  {
   "cell_type": "code",
   "execution_count": 18,
   "id": "alleged-material",
   "metadata": {},
   "outputs": [
    {
     "data": {
      "text/plain": [
       "<BatchDataset shapes: ((256, 17), (256, 17)), types: (tf.int32, tf.int32)>"
      ]
     },
     "execution_count": 18,
     "metadata": {},
     "output_type": "execute_result"
    }
   ],
   "source": [
    "BUFFER_SIZE = len(src_input)\n",
    "BATCH_SIZE = 256\n",
    "steps_per_epoch = len(src_input) // BATCH_SIZE\n",
    "\n",
    "VOCAB_SIZE = tokenizer.num_words + 1\n",
    "\n",
    "dataset = tf.data.Dataset.from_tensor_slices((src_input, tgt_input))\n",
    "dataset = dataset.shuffle(BUFFER_SIZE)\n",
    "dataset = dataset.batch(BATCH_SIZE, drop_remainder=True)\n",
    "dataset"
   ]
  },
  {
   "cell_type": "code",
   "execution_count": 21,
   "id": "light-advice",
   "metadata": {},
   "outputs": [],
   "source": [
    "class TextGenerator(tf.keras.Model):\n",
    "    def __init__(self, vocab_size, embedding_size, hidden_size):\n",
    "        super().__init__()\n",
    "        \n",
    "        self.embedding = tf.keras.layers.Embedding(vocab_size, embedding_size)\n",
    "        self.rnn_1 = tf.keras.layers.LSTM(hidden_size, return_sequences=True)\n",
    "        self.rnn_2 = tf.keras.layers.LSTM(hidden_size, return_sequences=True)\n",
    "        self.linear = tf.keras.layers.Dense(vocab_size)\n",
    "        \n",
    "    def call(self, x):\n",
    "        out = self.embedding(x)\n",
    "        out = self.rnn_1(out)\n",
    "        out = self.rnn_2(out)\n",
    "        out = self.linear(out)\n",
    "        \n",
    "        return out\n",
    "    \n",
    "embedding_size = 256\n",
    "hidden_size = 1024\n",
    "model = TextGenerator(tokenizer.num_words + 1, embedding_size, hidden_size)"
   ]
  },
  {
   "cell_type": "code",
   "execution_count": 22,
   "id": "incredible-shadow",
   "metadata": {},
   "outputs": [
    {
     "data": {
      "text/plain": [
       "<tf.Tensor: shape=(256, 17, 7001), dtype=float32, numpy=\n",
       "array([[[ 2.96963583e-04, -9.84988073e-05,  1.68532002e-04, ...,\n",
       "          2.74021004e-04,  3.53796378e-04, -4.75821798e-05],\n",
       "        [ 2.97993800e-04, -2.78735883e-04,  8.22538350e-05, ...,\n",
       "          5.64318383e-04,  1.06010621e-03, -1.13617156e-04],\n",
       "        [ 1.64809317e-04, -2.08750644e-04,  2.41903792e-04, ...,\n",
       "          8.62801273e-04,  1.19257183e-03, -3.12806864e-04],\n",
       "        ...,\n",
       "        [ 3.21184308e-03,  2.90896418e-03,  4.54097135e-05, ...,\n",
       "         -1.92306296e-03,  3.01296677e-04,  1.46853016e-03],\n",
       "        [ 3.68216168e-03,  3.54438461e-03, -1.22460851e-05, ...,\n",
       "         -2.35810084e-03,  5.55778170e-05,  1.73927203e-03],\n",
       "        [ 4.07445291e-03,  4.08856245e-03, -5.92359829e-05, ...,\n",
       "         -2.72539840e-03, -1.86793710e-04,  1.94423751e-03]],\n",
       "\n",
       "       [[ 2.96963583e-04, -9.84988073e-05,  1.68532002e-04, ...,\n",
       "          2.74021004e-04,  3.53796378e-04, -4.75821798e-05],\n",
       "        [ 6.12970965e-04,  6.88868167e-05, -7.86682504e-05, ...,\n",
       "          6.15267607e-04,  3.65884247e-04,  4.58391769e-05],\n",
       "        [ 7.21204618e-04,  2.37394255e-04, -3.31933188e-05, ...,\n",
       "          6.65373460e-04, -2.29656202e-04,  3.21855514e-05],\n",
       "        ...,\n",
       "        [ 4.29069530e-03,  5.22967055e-03, -1.34945876e-04, ...,\n",
       "         -3.90349911e-03, -1.01817690e-03,  2.16698018e-03],\n",
       "        [ 4.50887578e-03,  5.48788579e-03, -1.98960843e-04, ...,\n",
       "         -4.02117148e-03, -1.15295663e-03,  2.23970739e-03],\n",
       "        [ 4.69391746e-03,  5.70633775e-03, -2.58661661e-04, ...,\n",
       "         -4.11827536e-03, -1.28001673e-03,  2.28607282e-03]],\n",
       "\n",
       "       [[ 2.96963583e-04, -9.84988073e-05,  1.68532002e-04, ...,\n",
       "          2.74021004e-04,  3.53796378e-04, -4.75821798e-05],\n",
       "        [ 5.38392982e-04, -1.11705573e-04,  4.37967363e-04, ...,\n",
       "          2.79061438e-04,  4.33883484e-04, -1.84036762e-04],\n",
       "        [ 8.15961801e-04, -2.64076603e-04,  8.29531578e-04, ...,\n",
       "          1.66490383e-04,  3.92788759e-04, -1.76383386e-04],\n",
       "        ...,\n",
       "        [ 3.43406992e-03,  3.45960655e-03, -1.69872510e-04, ...,\n",
       "         -2.87567475e-03, -5.36158623e-04,  6.81141450e-04],\n",
       "        [ 3.78226046e-03,  4.01107455e-03, -2.45665229e-04, ...,\n",
       "         -3.14836507e-03, -7.43272656e-04,  1.01663300e-03],\n",
       "        [ 4.08033514e-03,  4.47610812e-03, -3.06316739e-04, ...,\n",
       "         -3.37952073e-03, -9.41144186e-04,  1.28809107e-03]],\n",
       "\n",
       "       ...,\n",
       "\n",
       "       [[ 2.96963583e-04, -9.84988073e-05,  1.68532002e-04, ...,\n",
       "          2.74021004e-04,  3.53796378e-04, -4.75821798e-05],\n",
       "        [ 2.97993800e-04, -2.78735883e-04,  8.22538350e-05, ...,\n",
       "          5.64318383e-04,  1.06010621e-03, -1.13617156e-04],\n",
       "        [ 2.63321097e-04, -3.59642960e-04,  1.50137348e-04, ...,\n",
       "          1.12819404e-03,  1.36536849e-03,  5.17229055e-05],\n",
       "        ...,\n",
       "        [ 3.88953742e-03,  4.38137632e-03, -1.92758176e-04, ...,\n",
       "         -3.27699259e-03, -4.35720023e-04,  2.79065315e-03],\n",
       "        [ 4.16903198e-03,  4.77292528e-03, -2.28287245e-04, ...,\n",
       "         -3.49025964e-03, -6.84323430e-04,  2.83212750e-03],\n",
       "        [ 4.40753438e-03,  5.10617206e-03, -2.61435605e-04, ...,\n",
       "         -3.66907218e-03, -9.04237619e-04,  2.83505325e-03]],\n",
       "\n",
       "       [[ 2.96963583e-04, -9.84988073e-05,  1.68532002e-04, ...,\n",
       "          2.74021004e-04,  3.53796378e-04, -4.75821798e-05],\n",
       "        [ 6.78718032e-04,  9.12706309e-05,  3.69778747e-04, ...,\n",
       "          6.05043839e-04,  2.69545824e-04, -3.14725155e-04],\n",
       "        [ 1.10807223e-03,  2.24350806e-04,  5.82054898e-04, ...,\n",
       "          7.31746841e-04,  1.14044095e-04, -1.27932988e-04],\n",
       "        ...,\n",
       "        [ 3.90711566e-03,  3.70257185e-03, -1.49672662e-04, ...,\n",
       "         -3.25587788e-03, -4.27153398e-04,  2.13819067e-03],\n",
       "        [ 4.19896329e-03,  4.15010378e-03, -1.98368958e-04, ...,\n",
       "         -3.53909843e-03, -6.42939936e-04,  2.26715766e-03],\n",
       "        [ 4.44518821e-03,  4.54179058e-03, -2.38643581e-04, ...,\n",
       "         -3.76944616e-03, -8.46042007e-04,  2.35288986e-03]],\n",
       "\n",
       "       [[ 2.96963583e-04, -9.84988073e-05,  1.68532002e-04, ...,\n",
       "          2.74021004e-04,  3.53796378e-04, -4.75821798e-05],\n",
       "        [ 3.01836932e-04, -2.05744451e-04,  2.18184650e-04, ...,\n",
       "          1.00697871e-04,  5.93093049e-04, -2.41159374e-04],\n",
       "        [ 1.48960316e-04, -7.01691781e-04,  5.86117734e-04, ...,\n",
       "          4.17524170e-05,  5.12711820e-04,  2.77575629e-04],\n",
       "        ...,\n",
       "        [ 1.81259727e-03,  1.87785784e-03,  7.73439009e-04, ...,\n",
       "         -1.96816004e-03, -7.00043311e-05,  1.02768163e-03],\n",
       "        [ 2.37198919e-03,  2.57342448e-03,  6.25320594e-04, ...,\n",
       "         -2.42662453e-03, -2.07706442e-04,  1.35767786e-03],\n",
       "        [ 2.88240146e-03,  3.19930515e-03,  4.92502353e-04, ...,\n",
       "         -2.82079843e-03, -3.62856605e-04,  1.64230936e-03]]],\n",
       "      dtype=float32)>"
      ]
     },
     "execution_count": 22,
     "metadata": {},
     "output_type": "execute_result"
    }
   ],
   "source": [
    "for src_sample, tgt_sample in dataset.take(1): break\n",
    "\n",
    "model(src_sample)"
   ]
  },
  {
   "cell_type": "code",
   "execution_count": 26,
   "id": "played-yahoo",
   "metadata": {},
   "outputs": [
    {
     "name": "stdout",
     "output_type": "stream",
     "text": [
      "Epoch 1/30\n",
      "93/93 [==============================] - 31s 304ms/step - loss: 4.6019\n",
      "Epoch 2/30\n",
      "93/93 [==============================] - 28s 306ms/step - loss: 3.0195\n",
      "Epoch 3/30\n",
      "93/93 [==============================] - 29s 307ms/step - loss: 2.9182\n",
      "Epoch 4/30\n",
      "93/93 [==============================] - 29s 308ms/step - loss: 2.8408\n",
      "Epoch 5/30\n",
      "93/93 [==============================] - 29s 309ms/step - loss: 2.7828\n",
      "Epoch 6/30\n",
      "93/93 [==============================] - 29s 308ms/step - loss: 2.7196\n",
      "Epoch 7/30\n",
      "93/93 [==============================] - 29s 309ms/step - loss: 2.6666\n",
      "Epoch 8/30\n",
      "93/93 [==============================] - 29s 309ms/step - loss: 2.6159\n",
      "Epoch 9/30\n",
      "93/93 [==============================] - 29s 309ms/step - loss: 2.5584\n",
      "Epoch 10/30\n",
      "93/93 [==============================] - 29s 309ms/step - loss: 2.5202\n",
      "Epoch 11/30\n",
      "93/93 [==============================] - 29s 309ms/step - loss: 2.4576\n",
      "Epoch 12/30\n",
      "93/93 [==============================] - 29s 309ms/step - loss: 2.4133\n",
      "Epoch 13/30\n",
      "93/93 [==============================] - 29s 309ms/step - loss: 2.3645\n",
      "Epoch 14/30\n",
      "93/93 [==============================] - 29s 310ms/step - loss: 2.3101\n",
      "Epoch 15/30\n",
      "93/93 [==============================] - 29s 309ms/step - loss: 2.2592\n",
      "Epoch 16/30\n",
      "93/93 [==============================] - 29s 309ms/step - loss: 2.2167\n",
      "Epoch 17/30\n",
      "93/93 [==============================] - 29s 309ms/step - loss: 2.1610\n",
      "Epoch 18/30\n",
      "93/93 [==============================] - 29s 309ms/step - loss: 2.1123\n",
      "Epoch 19/30\n",
      "93/93 [==============================] - 29s 309ms/step - loss: 2.0655\n",
      "Epoch 20/30\n",
      "93/93 [==============================] - 29s 309ms/step - loss: 2.0080\n",
      "Epoch 21/30\n",
      "93/93 [==============================] - 29s 309ms/step - loss: 1.9559\n",
      "Epoch 22/30\n",
      "93/93 [==============================] - 29s 308ms/step - loss: 1.8932\n",
      "Epoch 23/30\n",
      "93/93 [==============================] - 29s 309ms/step - loss: 1.8486\n",
      "Epoch 24/30\n",
      "93/93 [==============================] - 29s 309ms/step - loss: 1.7982\n",
      "Epoch 25/30\n",
      "93/93 [==============================] - 29s 309ms/step - loss: 1.7419\n",
      "Epoch 26/30\n",
      "93/93 [==============================] - 29s 310ms/step - loss: 1.6922\n",
      "Epoch 27/30\n",
      "93/93 [==============================] - 29s 309ms/step - loss: 1.6467\n",
      "Epoch 28/30\n",
      "93/93 [==============================] - 29s 309ms/step - loss: 1.5964\n",
      "Epoch 29/30\n",
      "93/93 [==============================] - 29s 308ms/step - loss: 1.5411\n",
      "Epoch 30/30\n",
      "93/93 [==============================] - 29s 309ms/step - loss: 1.4869\n"
     ]
    },
    {
     "data": {
      "text/plain": [
       "<tensorflow.python.keras.callbacks.History at 0x7f5d8aaaa290>"
      ]
     },
     "execution_count": 26,
     "metadata": {},
     "output_type": "execute_result"
    }
   ],
   "source": [
    "optimizer = tf.keras.optimizers.Adam()\n",
    "loss = tf.keras.losses.SparseCategoricalCrossentropy(\n",
    "    from_logits=True,\n",
    "    reduction='none'\n",
    ")\n",
    "\n",
    "model.compile(loss=loss, optimizer=optimizer)\n",
    "model.fit(dataset, epochs=30)"
   ]
  },
  {
   "cell_type": "code",
   "execution_count": 30,
   "id": "considerable-science",
   "metadata": {},
   "outputs": [],
   "source": [
    "def generate_text(model, tokenizer, init_sentence='<start>', max_len=20):\n",
    "    # 테스트를 위해 입력받은 init_sentence도 텐서로 변환\n",
    "    test_input = tokenizer.texts_to_sequences([init_sentence])\n",
    "    test_tensor = tf.convert_to_tensor(test_input, dtype=tf.int64)\n",
    "    end_token = tokenizer.word_index['<end>']\n",
    "    \n",
    "    # 단어 하나씩 예측해 문장을 만듭니다\n",
    "    # 1. 입력받은 문장의 텐서를 입력\n",
    "    # 2. 예측된 값 중 가장 높은 확률 -> word index\n",
    "    # 3. 2에서 예측된 word index를 문장 뒤에 붙ㅁ\n",
    "    # 4. 모델이 <end>를 예측했거나, max_len에 도달했다면 문장 생성 종료\n",
    "    while True:\n",
    "        # 1\n",
    "        predict = model(test_tensor)\n",
    "        # 2\n",
    "        predict_word = tf.argmax(tf.nn.softmax(predict, axis=-1), axis=-1)[:, -1]\n",
    "        # 3\n",
    "        test_tensor = tf.concat([test_tensor, tf.expand_dims(predict_word, axis=0)], axis=-1)\n",
    "        # 4\n",
    "        if predict_word.numpy()[0] == end_token: break\n",
    "        if test_tensor.shape[1] >= max_len: break\n",
    "            \n",
    "    generated = ''\n",
    "    for word_index in test_tensor[0].numpy():\n",
    "        generated += tokenizer.index_word[word_index] + \"\"\n",
    "        \n",
    "    return generated"
   ]
  },
  {
   "cell_type": "code",
   "execution_count": 31,
   "id": "invalid-teach",
   "metadata": {},
   "outputs": [
    {
     "data": {
      "text/plain": [
       "'<start>and<unk><unk>to<unk><end>'"
      ]
     },
     "execution_count": 31,
     "metadata": {},
     "output_type": "execute_result"
    }
   ],
   "source": [
    "generate_text(model, tokenizer, init_sentence='<start>')"
   ]
  },
  {
   "cell_type": "code",
   "execution_count": null,
   "id": "bound-location",
   "metadata": {},
   "outputs": [],
   "source": []
  }
 ],
 "metadata": {
  "kernelspec": {
   "display_name": "Python 3",
   "language": "python",
   "name": "python3"
  },
  "language_info": {
   "codemirror_mode": {
    "name": "ipython",
    "version": 3
   },
   "file_extension": ".py",
   "mimetype": "text/x-python",
   "name": "python",
   "nbconvert_exporter": "python",
   "pygments_lexer": "ipython3",
   "version": "3.7.9"
  }
 },
 "nbformat": 4,
 "nbformat_minor": 5
}
