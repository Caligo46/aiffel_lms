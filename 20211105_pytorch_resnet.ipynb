{
 "cells": [
  {
   "cell_type": "markdown",
   "id": "fallen-trace",
   "metadata": {},
   "source": [
    "# Pytorch에서 ResNet 구현하기\n",
    "원문 링크: https://cryptosalamander.tistory.com/156?category=1181429\n",
    "\n",
    "## 논문 제시 Architecture\n",
    "최초 컨볼루션 이후 4개의 블럭으로 구성\n",
    "BottelNeck Architecture"
   ]
  },
  {
   "cell_type": "code",
   "execution_count": 2,
   "id": "light-emission",
   "metadata": {},
   "outputs": [],
   "source": [
    "import torch \n",
    "\n",
    "# 파이토치 레이어 관련\n",
    "import torch.nn as nn\n",
    "\n",
    "# Activation func 관련\n",
    "import torch.nn.functional as F"
   ]
  },
  {
   "cell_type": "markdown",
   "id": "varying-wagon",
   "metadata": {},
   "source": [
    "## Basic Residual Block (ResNet 18, 34)"
   ]
  },
  {
   "cell_type": "code",
   "execution_count": 5,
   "id": "determined-waters",
   "metadata": {},
   "outputs": [],
   "source": [
    "class BasicBlock(nn.Module):\n",
    "    # mul -> ResNet 18, 34, 50, 101, 152 구조 생성에 사용됨\n",
    "    mul = 1\n",
    "    def __init__(self, in_planes, out_planes, stride=1):\n",
    "        super(BasicBlock, self).__init__()\n",
    "        \n",
    "        # stride로 이미지 너비와 높이 조정\n",
    "        self.conv1 = nn.Conv2d(in_planes, out_planes, kernel_size=3,\n",
    "                              stride=stride, padding=1, bias=False)\n",
    "        self.bn1 = nn.BatchNorm2d(out_planes)\n",
    "        \n",
    "        # 넓이, 높이는 그대로 유지\n",
    "        self.conv2 = nn.Conv2d(out_planes, out_planes, kernel_size=3,\n",
    "                              stride=1, padding=1, bias=False)\n",
    "        self.bn2 = nn.BatchNorm2d(out_planes)\n",
    "        \n",
    "        # 입력 x 르를 그대로 더해줌\n",
    "        self.shortcut = nn.Sequential()\n",
    "        \n",
    "        # 만약 size가 안맞아 합연산이 불가하면, 연산이 가능하도록 모양을 맞춰줌\n",
    "        if stride != 1:\n",
    "            self.shortcut = nn.Sequential(\n",
    "                nn.Conv2d(in_planes, out_planes, kernel_size=1, \n",
    "                              stride=stride, bias=False),\n",
    "                nn.BatchNorm2d(out_planes)\n",
    "            )\n",
    "            \n",
    "    def forward(self, x):\n",
    "        out = self.conv1(x)\n",
    "        out = self.bn1(out)\n",
    "        out = F.relu(out)\n",
    "        out = self.conv2(out)\n",
    "        out = self.bn2(out)\n",
    "        out += self.shortcut(x)\n",
    "        out = F.relu(out)\n",
    "        return out"
   ]
  },
  {
   "cell_type": "markdown",
   "id": "respective-paradise",
   "metadata": {},
   "source": [
    "## BottelNeck Residual Block (ResNet 50, 101, 152)"
   ]
  },
  {
   "cell_type": "code",
   "execution_count": 6,
   "id": "stretch-field",
   "metadata": {},
   "outputs": [],
   "source": [
    "class BottelNeck(nn.Module):\n",
    "    mul = 4\n",
    "    def __init__(self, in_planes, out_planes, stride=1):\n",
    "        super(BottelNeck, self).__init__()\n",
    "        \n",
    "        # 첫 convolution 에서 너비와 높이 downsampling\n",
    "        self.conv1 = nn.Conv2d(in_planes, out_planes, kernel_size=1,\n",
    "                              stride=stride, bias=Flase)      \n",
    "        self.bn1 = nn.BatchNorm2d(out_planes)\n",
    "        \n",
    "        self.conv2 = nn.Conv2d(out_planes, out_planes, kernel_size=3,\n",
    "                              stride=stride, padding=1, bias=False)\n",
    "        self.bn2 = nn.BatchNorm2d(out_planes)\n",
    "        \n",
    "        self.conv3 = nn.Conv2d(out_planes, out_planes*self.mul, \n",
    "                               kernel_size=1, stride=stride, bias=False)\n",
    "        self.bn3 = nn.BatchNorm2d(out_planes*self.mul)\n",
    "        \n",
    "        self.shortcut = nn.Sequential()\n",
    "        \n",
    "        if stride != 1 or in_planes != out_planes*self.mul:\n",
    "            self.shortcut = nn.Sequential(\n",
    "                nn.Conv2d(in_planes, out_planes*self.mul, \n",
    "                          kernel_size=1,stride=stride, bias=Flase),\n",
    "                nn.BatchNorm2d(out_planes*self.mul)\n",
    "            )\n",
    "    \n",
    "    def forward(self, x):\n",
    "        out = self.conv1(x)\n",
    "        out = self.bn1(out)\n",
    "        out = F.relu(out)\n",
    "        \n",
    "        out = self.conv2(x)\n",
    "        out = self.bn2(out)\n",
    "        out = F.relu(out)\n",
    "\n",
    "        out = self.conv3(x)\n",
    "        out = self.bn3(out)\n",
    "        out += self.shortcut(x)\n",
    "        out = F.relu(out)\n",
    "        return out"
   ]
  },
  {
   "cell_type": "markdown",
   "id": "productive-brother",
   "metadata": {},
   "source": [
    "## ResNet 구현"
   ]
  },
  {
   "cell_type": "code",
   "execution_count": 7,
   "id": "tender-initial",
   "metadata": {},
   "outputs": [],
   "source": [
    "class ResNet(nn.Module):\n",
    "    # CIFAR-10 를 위해 num_classes=10로 설정\n",
    "    def __init__(self, block, num_blocks, num_classes=10):\n",
    "        super(ResNet, self).__init__()\n",
    "        # RGB 3개 채널에서 64개의 kernel 사용(논문 내용 참고?)\n",
    "        self.in_planes = 64\n",
    "        \n",
    "        self.conv1 = nn.Conv2d(3, self.in_planes, kernel_size=7, stride=2, padding=3)\n",
    "        self.bn1 = nn.BatchNorm2d(self.in_planes)\n",
    "        self.maxpool1 = nn.MaxPool2d(kernel_size=3, stride=2, padding=1)\n",
    "        \n",
    "        self.layer1 = self.make_layer(block, 64, num_block[0], stride=1)\n",
    "        self.layer2 = self.make_layer(block, 128, num_block[1], stride=2)\n",
    "        self.layer3 = self.make_layer(block, 256, num_block[2], stride=2)\n",
    "        self.layer4 = self.make_layer(block, 512, num_block[3], stride=2)\n",
    "        self.avgpool = nn.AdaptiveAvgPool2d((1,1))\n",
    "        \n",
    "        self.linear = nn.Linear(512*block.mul, num_classes)\n",
    "        \n",
    "    def make_layer(self, block, out_planes, num_blocks, stride):\n",
    "        stride = [stride] + [1] * (num_blocks-1)\n",
    "        layers = []\n",
    "        \n",
    "        for i in range(num_blocks):\n",
    "            layers.append(block(self.in_planes, out_planes, strides[i]))\n",
    "            self.in_planes = block.mul * out_planes\n",
    "        return nn.Sequential(*layers)\n",
    "    \n",
    "    def forward(self, x):\n",
    "        out = self.conv(x)\n",
    "        out = self.bn1(out)\n",
    "        out = F.relu(out)\n",
    "        \n",
    "        out = self.Maxpool1(out)\n",
    "        out = self.layer1(out)\n",
    "        out = self.layer2(out)\n",
    "        out = self.layer3(out)\n",
    "        out = self.layer4(out)\n",
    "        out = self.avgpool(out)\n",
    "        out = torch.flatten(out, 1)\n",
    "        out = self.linear(out)\n",
    "        return out        "
   ]
  },
  {
   "cell_type": "code",
   "execution_count": 8,
   "id": "protecting-thermal",
   "metadata": {},
   "outputs": [],
   "source": [
    "def ResNet18():\n",
    "    return ResNet(BasicBlock, [2,2,2,2])\n",
    "\n",
    "def ResNet34():\n",
    "    return ResNet(BasicBlock, [3,4,6,3])\n",
    "\n",
    "def ResNet50():\n",
    "    return ResNet(BottleNeck, [3,4,6,3])\n",
    "\n",
    "def ResNet101():\n",
    "    return ResNet(BottleNeck, [3,4,23,3])\n",
    "\n",
    "def ResNet152():\n",
    "    return ResNet(BottleNeck, [3,8,36,3])"
   ]
  },
  {
   "cell_type": "code",
   "execution_count": null,
   "id": "nearby-august",
   "metadata": {},
   "outputs": [],
   "source": []
  }
 ],
 "metadata": {
  "kernelspec": {
   "display_name": "Python 3",
   "language": "python",
   "name": "python3"
  },
  "language_info": {
   "codemirror_mode": {
    "name": "ipython",
    "version": 3
   },
   "file_extension": ".py",
   "mimetype": "text/x-python",
   "name": "python",
   "nbconvert_exporter": "python",
   "pygments_lexer": "ipython3",
   "version": "3.7.9"
  }
 },
 "nbformat": 4,
 "nbformat_minor": 5
}
